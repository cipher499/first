{
 "cells": [
  {
   "cell_type": "markdown",
   "metadata": {
    "collapsed": true
   },
   "source": [
    "# My Jupyter Notebook on IBM Watson Studio"
   ]
  },
  {
   "cell_type": "markdown",
   "metadata": {},
   "source": [
    "**SHWETANK GOSWAMI** <br>\n",
    "Data Scientist "
   ]
  },
  {
   "cell_type": "markdown",
   "metadata": {},
   "source": [
    "_I am interested in data science because data is everywhere and the thought of playing with it, finding patterns and archetypes to gain insights that would otherwise be oblivious fascinates me._"
   ]
  },
  {
   "cell_type": "markdown",
   "metadata": {},
   "source": [
    "### This program is to calculate the arithmetic mean of two integers. It first prompts the user for for two integers, passes them into the body of a function which returns the mean of the two numbers."
   ]
  },
  {
   "cell_type": "code",
   "execution_count": 11,
   "metadata": {
    "scrolled": true
   },
   "outputs": [
    {
     "name": "stdout",
     "output_type": "stream",
     "text": [
      "Enter the first integer: 3\n",
      "Enter the second integer: 2\n",
      "The mean of the two integers is: 2.5\n"
     ]
    }
   ],
   "source": [
    "def mean(a, b):\n",
    "  return (a + b) / 2\n",
    "\n",
    "# Read input from the user\n",
    "a = int(input(\"Enter the first integer: \"))\n",
    "b = int(input(\"Enter the second integer: \"))\n",
    "\n",
    "# Calculate and print the mean\n",
    "result = mean(a, b)\n",
    "print(\"The mean of the two integers is:\", result)\n"
   ]
  },
  {
   "cell_type": "markdown",
   "metadata": {},
   "source": [
    "Bullet list:\n",
    "* Bulls\n",
    "* Warriors\n",
    "* Lakers\n",
    "\n",
    "Numbered list:\n",
    "1. Apple \n",
    "2. Banana\n",
    "3. Guava\n",
    "\n",
    "Horizontal line:\n",
    "___\n",
    "\n",
    "[Monkeytype](https://www.monkeytype.com)\n",
    "\n"
   ]
  },
  {
   "cell_type": "code",
   "execution_count": null,
   "metadata": {},
   "outputs": [],
   "source": []
  }
 ],
 "metadata": {
  "kernelspec": {
   "display_name": "Python 3 (ipykernel)",
   "language": "python",
   "name": "python3"
  },
  "language_info": {
   "codemirror_mode": {
    "name": "ipython",
    "version": 3
   },
   "file_extension": ".py",
   "mimetype": "text/x-python",
   "name": "python",
   "nbconvert_exporter": "python",
   "pygments_lexer": "ipython3",
   "version": "3.10.6"
  }
 },
 "nbformat": 4,
 "nbformat_minor": 1
}
